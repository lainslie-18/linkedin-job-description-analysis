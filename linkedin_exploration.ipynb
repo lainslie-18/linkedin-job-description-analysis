{
 "cells": [
  {
   "cell_type": "code",
   "execution_count": 125,
   "id": "dca185a1",
   "metadata": {},
   "outputs": [],
   "source": [
    "import numpy as np\n",
    "import pandas as pd\n",
    "\n",
    "from requests import get\n",
    "from bs4 import BeautifulSoup\n",
    "import os\n",
    "import re"
   ]
  },
  {
   "cell_type": "markdown",
   "id": "fd1a91c1",
   "metadata": {},
   "source": [
    "### For this project, I want to pull in LinkedIn data scientist job descriptions and do some natural language processing analysis"
   ]
  },
  {
   "cell_type": "code",
   "execution_count": 140,
   "id": "b2f7b6bf",
   "metadata": {},
   "outputs": [],
   "source": [
    "# define link and headers and use get to request server content\n",
    "link = 'https://www.linkedin.com/jobs/search/?distance=25&geoId=106224388&keywords=data%20scientist&location=Atlanta%2C%20Georgia%2C%20United%20States'\n",
    "headers = {'User-Agent': 'data science project'}\n",
    "response = get(link, headers=headers)"
   ]
  },
  {
   "cell_type": "code",
   "execution_count": 141,
   "id": "b934aa81",
   "metadata": {},
   "outputs": [
    {
     "name": "stdout",
     "output_type": "stream",
     "text": [
      "<!DOCTYPE html>\n",
      "\n",
      "    \n",
      "    \n",
      "    \n",
      "    \n",
      "    \n",
      "\n",
      "    \n",
      "    <html lang=\"en\">\n",
      "      <head>\n",
      "        <meta name=\"pageKey\" content=\"d_jobs_guest_search\">\n",
      "          <meta name=\"linkedin:pageTag\" content=\"urlType=jserp_custom;emptyResult=false\">\n",
      "        <meta name=\"locale\" content=\"en_US\">\n",
      "        <meta id=\"config\" data-app-version=\"2.0.939\" data-call-tree-id=\"AAXaqHGBlHbVcHnDI7uBVg==\" data-multiproduct-name=\"j\n"
     ]
    }
   ],
   "source": [
    "# check response\n",
    "print(response.text[:400])"
   ]
  },
  {
   "cell_type": "code",
   "execution_count": 142,
   "id": "76b0b144",
   "metadata": {},
   "outputs": [],
   "source": [
    "# make soup variable holding the response content\n",
    "soup = BeautifulSoup(response.content, 'html.parser')"
   ]
  },
  {
   "cell_type": "code",
   "execution_count": 143,
   "id": "caf71e50",
   "metadata": {},
   "outputs": [
    {
     "data": {
      "text/plain": [
       "'13,000+ Data Scientist jobs in Atlanta, Georgia, United States (153 new)'"
      ]
     },
     "execution_count": 143,
     "metadata": {},
     "output_type": "execute_result"
    }
   ],
   "source": [
    "# get title\n",
    "soup.title.string"
   ]
  },
  {
   "cell_type": "code",
   "execution_count": 144,
   "id": "18f54cf0",
   "metadata": {},
   "outputs": [
    {
     "data": {
      "text/plain": [
       "'<!DOCTYPE html>\\n<html lang=\"en\">\\n <head>\\n  <meta content=\"d_jobs_guest_search\" name=\"pageKey\"/>\\n  <meta content=\"urlType=jserp_custom;emptyResult=false\" name=\"linkedin:pageTag\"/>\\n  <meta content=\"en_US\" name=\"locale\"/>\\n  <meta data-app-version=\"2.0.939\" data-browser-id=\"67fcb5e8-c8ca-45cd-8a89-e5e2edc6f1c1\" data-call-tree-id=\"AAXaqHGBlHbVcHnDI7uBVg==\" data-enable-core-web-tracking=\"\" data-enable-p'"
      ]
     },
     "execution_count": 144,
     "metadata": {},
     "output_type": "execute_result"
    }
   ],
   "source": [
    "# print HTML\n",
    "soup.prettify()[:400]"
   ]
  },
  {
   "cell_type": "code",
   "execution_count": 145,
   "id": "5f544496",
   "metadata": {},
   "outputs": [
    {
     "data": {
      "text/plain": [
       "[<a class=\"base-card__full-link\" data-tracking-client-ingraph=\"\" data-tracking-control-name=\"public_jobs_jserp-result_search-card\" data-tracking-will-navigate=\"\" href=\"https://www.linkedin.com/jobs/view/data-scientist-decision-analytics-at-the-home-depot-2975499059?refId=7xJrn84%2FhF5oygquxTnkZA%3D%3D&amp;trackingId=MzjXcVvOk0BqvdUdJz7WTg%3D%3D&amp;position=1&amp;pageNum=0&amp;trk=public_jobs_jserp-result_search-card\">\n",
       " <span class=\"screen-reader-text\">\n",
       "             \n",
       "         \n",
       "         Data Scientist, Decision Analytics\n",
       "       \n",
       "       \n",
       "           </span>\n",
       " </a>,\n",
       " <a class=\"base-card__full-link\" data-tracking-client-ingraph=\"\" data-tracking-control-name=\"public_jobs_jserp-result_search-card\" data-tracking-will-navigate=\"\" href=\"https://www.linkedin.com/jobs/view/junior-data-scientist-at-the-coca-cola-company-2973139481?refId=7xJrn84%2FhF5oygquxTnkZA%3D%3D&amp;trackingId=iPMVYXT70dOh%2BmGL65VQHA%3D%3D&amp;position=2&amp;pageNum=0&amp;trk=public_jobs_jserp-result_search-card\">\n",
       " <span class=\"screen-reader-text\">\n",
       "             \n",
       "         \n",
       "         Junior Data Scientist\n",
       "       \n",
       "       \n",
       "           </span>\n",
       " </a>,\n",
       " <a class=\"base-card__full-link\" data-tracking-client-ingraph=\"\" data-tracking-control-name=\"public_jobs_jserp-result_search-card\" data-tracking-will-navigate=\"\" href=\"https://www.linkedin.com/jobs/view/data-scientist-at-visa-2928881291?refId=7xJrn84%2FhF5oygquxTnkZA%3D%3D&amp;trackingId=UF0yFgQpqhYBYNT4qKaUrA%3D%3D&amp;position=3&amp;pageNum=0&amp;trk=public_jobs_jserp-result_search-card\">\n",
       " <span class=\"screen-reader-text\">\n",
       "             \n",
       "         \n",
       "         Data Scientist\n",
       "       \n",
       "       \n",
       "           </span>\n",
       " </a>]"
      ]
     },
     "execution_count": 145,
     "metadata": {},
     "output_type": "execute_result"
    }
   ],
   "source": [
    "# get job listings\n",
    "listings = soup.find_all('a', class_='base-card__full-link')\n",
    "listings[:3]"
   ]
  },
  {
   "cell_type": "code",
   "execution_count": 146,
   "id": "21ac1c4b",
   "metadata": {},
   "outputs": [
    {
     "data": {
      "text/plain": [
       "25"
      ]
     },
     "execution_count": 146,
     "metadata": {},
     "output_type": "execute_result"
    }
   ],
   "source": [
    "# check number of listings for page\n",
    "len(listings)"
   ]
  },
  {
   "cell_type": "code",
   "execution_count": 147,
   "id": "0e1fd3b6",
   "metadata": {},
   "outputs": [
    {
     "data": {
      "text/plain": [
       "<a class=\"base-card__full-link\" data-tracking-client-ingraph=\"\" data-tracking-control-name=\"public_jobs_jserp-result_search-card\" data-tracking-will-navigate=\"\" href=\"https://www.linkedin.com/jobs/view/data-scientist-decision-analytics-at-the-home-depot-2975499059?refId=7xJrn84%2FhF5oygquxTnkZA%3D%3D&amp;trackingId=MzjXcVvOk0BqvdUdJz7WTg%3D%3D&amp;position=1&amp;pageNum=0&amp;trk=public_jobs_jserp-result_search-card\">\n",
       "<span class=\"screen-reader-text\">\n",
       "            \n",
       "        \n",
       "        Data Scientist, Decision Analytics\n",
       "      \n",
       "      \n",
       "          </span>\n",
       "</a>"
      ]
     },
     "execution_count": 147,
     "metadata": {},
     "output_type": "execute_result"
    }
   ],
   "source": [
    "# get only first listing\n",
    "listing = listings[0]\n",
    "listing"
   ]
  },
  {
   "cell_type": "code",
   "execution_count": 134,
   "id": "5d00ba78",
   "metadata": {},
   "outputs": [],
   "source": [
    "# get job role for listing\n",
    "role = listing.get_text().strip()"
   ]
  },
  {
   "cell_type": "code",
   "execution_count": 148,
   "id": "fad74117",
   "metadata": {},
   "outputs": [
    {
     "data": {
      "text/plain": [
       "'https://www.linkedin.com/jobs/view/data-scientist-decision-analytics-at-the-home-depot-2975499059?refId=7xJrn84%2FhF5oygquxTnkZA%3D%3D&trackingId=MzjXcVvOk0BqvdUdJz7WTg%3D%3D&position=1&pageNum=0&trk=public_jobs_jserp-result_search-card'"
      ]
     },
     "execution_count": 148,
     "metadata": {},
     "output_type": "execute_result"
    }
   ],
   "source": [
    "# get link for listing\n",
    "link = listing['href']\n",
    "link"
   ]
  },
  {
   "cell_type": "code",
   "execution_count": 149,
   "id": "d0a9b857",
   "metadata": {},
   "outputs": [],
   "source": [
    "# create a function that retrieves the role and link and returns a dictionary with these items \n",
    "def parse_listing_info(listing):\n",
    "    role = listing.get_text().strip()\n",
    "    link = listing['href']\n",
    "    return { 'role': role, 'link': link }"
   ]
  },
  {
   "cell_type": "code",
   "execution_count": 150,
   "id": "e2fe17f9",
   "metadata": {},
   "outputs": [
    {
     "data": {
      "text/html": [
       "<div>\n",
       "<style scoped>\n",
       "    .dataframe tbody tr th:only-of-type {\n",
       "        vertical-align: middle;\n",
       "    }\n",
       "\n",
       "    .dataframe tbody tr th {\n",
       "        vertical-align: top;\n",
       "    }\n",
       "\n",
       "    .dataframe thead th {\n",
       "        text-align: right;\n",
       "    }\n",
       "</style>\n",
       "<table border=\"1\" class=\"dataframe\">\n",
       "  <thead>\n",
       "    <tr style=\"text-align: right;\">\n",
       "      <th></th>\n",
       "      <th>role</th>\n",
       "      <th>link</th>\n",
       "    </tr>\n",
       "  </thead>\n",
       "  <tbody>\n",
       "    <tr>\n",
       "      <th>0</th>\n",
       "      <td>Data Scientist, Decision Analytics</td>\n",
       "      <td>https://www.linkedin.com/jobs/view/data-scient...</td>\n",
       "    </tr>\n",
       "    <tr>\n",
       "      <th>1</th>\n",
       "      <td>Junior Data Scientist</td>\n",
       "      <td>https://www.linkedin.com/jobs/view/junior-data...</td>\n",
       "    </tr>\n",
       "    <tr>\n",
       "      <th>2</th>\n",
       "      <td>Data Scientist</td>\n",
       "      <td>https://www.linkedin.com/jobs/view/data-scient...</td>\n",
       "    </tr>\n",
       "    <tr>\n",
       "      <th>3</th>\n",
       "      <td>Data Scientist</td>\n",
       "      <td>https://www.linkedin.com/jobs/view/data-scient...</td>\n",
       "    </tr>\n",
       "    <tr>\n",
       "      <th>4</th>\n",
       "      <td>Data Scientist</td>\n",
       "      <td>https://www.linkedin.com/jobs/view/data-scient...</td>\n",
       "    </tr>\n",
       "    <tr>\n",
       "      <th>5</th>\n",
       "      <td>Data Scientist</td>\n",
       "      <td>https://www.linkedin.com/jobs/view/data-scient...</td>\n",
       "    </tr>\n",
       "    <tr>\n",
       "      <th>6</th>\n",
       "      <td>Data Scientist - Associate</td>\n",
       "      <td>https://www.linkedin.com/jobs/view/data-scient...</td>\n",
       "    </tr>\n",
       "    <tr>\n",
       "      <th>7</th>\n",
       "      <td>Associate Data Scientist</td>\n",
       "      <td>https://www.linkedin.com/jobs/view/associate-d...</td>\n",
       "    </tr>\n",
       "    <tr>\n",
       "      <th>8</th>\n",
       "      <td>Associate Data Scientist, Decision Analytics</td>\n",
       "      <td>https://www.linkedin.com/jobs/view/associate-d...</td>\n",
       "    </tr>\n",
       "    <tr>\n",
       "      <th>9</th>\n",
       "      <td>Data Scientist</td>\n",
       "      <td>https://www.linkedin.com/jobs/view/data-scient...</td>\n",
       "    </tr>\n",
       "    <tr>\n",
       "      <th>10</th>\n",
       "      <td>Data Scientist, Supply Chain (Remote)</td>\n",
       "      <td>https://www.linkedin.com/jobs/view/data-scient...</td>\n",
       "    </tr>\n",
       "    <tr>\n",
       "      <th>11</th>\n",
       "      <td>Data Scientist</td>\n",
       "      <td>https://www.linkedin.com/jobs/view/data-scient...</td>\n",
       "    </tr>\n",
       "    <tr>\n",
       "      <th>12</th>\n",
       "      <td>Data Scientist - (Remote)</td>\n",
       "      <td>https://www.linkedin.com/jobs/view/data-scient...</td>\n",
       "    </tr>\n",
       "    <tr>\n",
       "      <th>13</th>\n",
       "      <td>Data Scientist</td>\n",
       "      <td>https://www.linkedin.com/jobs/view/data-scient...</td>\n",
       "    </tr>\n",
       "    <tr>\n",
       "      <th>14</th>\n",
       "      <td>Data Scientist</td>\n",
       "      <td>https://www.linkedin.com/jobs/view/data-scient...</td>\n",
       "    </tr>\n",
       "    <tr>\n",
       "      <th>15</th>\n",
       "      <td>Data Scientist, Supply Chain (Remote)</td>\n",
       "      <td>https://www.linkedin.com/jobs/view/data-scient...</td>\n",
       "    </tr>\n",
       "    <tr>\n",
       "      <th>16</th>\n",
       "      <td>Data Scientist</td>\n",
       "      <td>https://www.linkedin.com/jobs/view/data-scient...</td>\n",
       "    </tr>\n",
       "    <tr>\n",
       "      <th>17</th>\n",
       "      <td>Data Scientist</td>\n",
       "      <td>https://www.linkedin.com/jobs/view/data-scient...</td>\n",
       "    </tr>\n",
       "    <tr>\n",
       "      <th>18</th>\n",
       "      <td>Data Scientist</td>\n",
       "      <td>https://www.linkedin.com/jobs/view/data-scient...</td>\n",
       "    </tr>\n",
       "    <tr>\n",
       "      <th>19</th>\n",
       "      <td>Data Scientist</td>\n",
       "      <td>https://www.linkedin.com/jobs/view/data-scient...</td>\n",
       "    </tr>\n",
       "    <tr>\n",
       "      <th>20</th>\n",
       "      <td>Data Scientist, Supply Chain (Remote)</td>\n",
       "      <td>https://www.linkedin.com/jobs/view/data-scient...</td>\n",
       "    </tr>\n",
       "    <tr>\n",
       "      <th>21</th>\n",
       "      <td>Associate Data Scientist, Decision Analytics (...</td>\n",
       "      <td>https://www.linkedin.com/jobs/view/associate-d...</td>\n",
       "    </tr>\n",
       "    <tr>\n",
       "      <th>22</th>\n",
       "      <td>Data Scientist I</td>\n",
       "      <td>https://www.linkedin.com/jobs/view/data-scient...</td>\n",
       "    </tr>\n",
       "    <tr>\n",
       "      <th>23</th>\n",
       "      <td>Data Scientist</td>\n",
       "      <td>https://www.linkedin.com/jobs/view/data-scient...</td>\n",
       "    </tr>\n",
       "    <tr>\n",
       "      <th>24</th>\n",
       "      <td>Data Scientist</td>\n",
       "      <td>https://www.linkedin.com/jobs/view/data-scient...</td>\n",
       "    </tr>\n",
       "  </tbody>\n",
       "</table>\n",
       "</div>"
      ],
      "text/plain": [
       "                                                 role  \\\n",
       "0                  Data Scientist, Decision Analytics   \n",
       "1                               Junior Data Scientist   \n",
       "2                                      Data Scientist   \n",
       "3                                      Data Scientist   \n",
       "4                                      Data Scientist   \n",
       "5                                      Data Scientist   \n",
       "6                          Data Scientist - Associate   \n",
       "7                            Associate Data Scientist   \n",
       "8        Associate Data Scientist, Decision Analytics   \n",
       "9                                      Data Scientist   \n",
       "10              Data Scientist, Supply Chain (Remote)   \n",
       "11                                     Data Scientist   \n",
       "12                          Data Scientist - (Remote)   \n",
       "13                                     Data Scientist   \n",
       "14                                     Data Scientist   \n",
       "15              Data Scientist, Supply Chain (Remote)   \n",
       "16                                     Data Scientist   \n",
       "17                                     Data Scientist   \n",
       "18                                     Data Scientist   \n",
       "19                                     Data Scientist   \n",
       "20              Data Scientist, Supply Chain (Remote)   \n",
       "21  Associate Data Scientist, Decision Analytics (...   \n",
       "22                                   Data Scientist I   \n",
       "23                                     Data Scientist   \n",
       "24                                     Data Scientist   \n",
       "\n",
       "                                                 link  \n",
       "0   https://www.linkedin.com/jobs/view/data-scient...  \n",
       "1   https://www.linkedin.com/jobs/view/junior-data...  \n",
       "2   https://www.linkedin.com/jobs/view/data-scient...  \n",
       "3   https://www.linkedin.com/jobs/view/data-scient...  \n",
       "4   https://www.linkedin.com/jobs/view/data-scient...  \n",
       "5   https://www.linkedin.com/jobs/view/data-scient...  \n",
       "6   https://www.linkedin.com/jobs/view/data-scient...  \n",
       "7   https://www.linkedin.com/jobs/view/associate-d...  \n",
       "8   https://www.linkedin.com/jobs/view/associate-d...  \n",
       "9   https://www.linkedin.com/jobs/view/data-scient...  \n",
       "10  https://www.linkedin.com/jobs/view/data-scient...  \n",
       "11  https://www.linkedin.com/jobs/view/data-scient...  \n",
       "12  https://www.linkedin.com/jobs/view/data-scient...  \n",
       "13  https://www.linkedin.com/jobs/view/data-scient...  \n",
       "14  https://www.linkedin.com/jobs/view/data-scient...  \n",
       "15  https://www.linkedin.com/jobs/view/data-scient...  \n",
       "16  https://www.linkedin.com/jobs/view/data-scient...  \n",
       "17  https://www.linkedin.com/jobs/view/data-scient...  \n",
       "18  https://www.linkedin.com/jobs/view/data-scient...  \n",
       "19  https://www.linkedin.com/jobs/view/data-scient...  \n",
       "20  https://www.linkedin.com/jobs/view/data-scient...  \n",
       "21  https://www.linkedin.com/jobs/view/associate-d...  \n",
       "22  https://www.linkedin.com/jobs/view/data-scient...  \n",
       "23  https://www.linkedin.com/jobs/view/data-scient...  \n",
       "24  https://www.linkedin.com/jobs/view/data-scient...  "
      ]
     },
     "execution_count": 150,
     "metadata": {},
     "output_type": "execute_result"
    }
   ],
   "source": [
    "# loop through all the listings with the function and create a dataframe with job role and listing\n",
    "listing_info = pd.DataFrame([parse_listing_info(listing) for listing in listings])\n",
    "listing_info"
   ]
  },
  {
   "cell_type": "markdown",
   "id": "9193b5bd",
   "metadata": {},
   "source": [
    "### Each page has 25 results & from page to page the link changes only by adding a start point at the end, so I am going to loop through the first 10 pages to gather 250 results."
   ]
  },
  {
   "cell_type": "code",
   "execution_count": 152,
   "id": "bb74be20",
   "metadata": {},
   "outputs": [
    {
     "name": "stdout",
     "output_type": "stream",
     "text": [
      "https://www.linkedin.com/jobs/search/?distance=25&geoId=106224388&keywords=data%20scientist&location=Atlanta%2C%20Georgia%2C%20United%20States&start=25\n",
      "https://www.linkedin.com/jobs/search/?distance=25&geoId=106224388&keywords=data%20scientist&location=Atlanta%2C%20Georgia%2C%20United%20States&start=50\n",
      "https://www.linkedin.com/jobs/search/?distance=25&geoId=106224388&keywords=data%20scientist&location=Atlanta%2C%20Georgia%2C%20United%20States&start=75\n",
      "https://www.linkedin.com/jobs/search/?distance=25&geoId=106224388&keywords=data%20scientist&location=Atlanta%2C%20Georgia%2C%20United%20States&start=100\n",
      "https://www.linkedin.com/jobs/search/?distance=25&geoId=106224388&keywords=data%20scientist&location=Atlanta%2C%20Georgia%2C%20United%20States&start=125\n",
      "https://www.linkedin.com/jobs/search/?distance=25&geoId=106224388&keywords=data%20scientist&location=Atlanta%2C%20Georgia%2C%20United%20States&start=150\n",
      "https://www.linkedin.com/jobs/search/?distance=25&geoId=106224388&keywords=data%20scientist&location=Atlanta%2C%20Georgia%2C%20United%20States&start=175\n",
      "https://www.linkedin.com/jobs/search/?distance=25&geoId=106224388&keywords=data%20scientist&location=Atlanta%2C%20Georgia%2C%20United%20States&start=200\n",
      "https://www.linkedin.com/jobs/search/?distance=25&geoId=106224388&keywords=data%20scientist&location=Atlanta%2C%20Georgia%2C%20United%20States&start=225\n"
     ]
    }
   ],
   "source": [
    "# check that I will be able to get the correct links\n",
    "for i in range(25,250,25):\n",
    "    link = 'https://www.linkedin.com/jobs/search/?distance=25&geoId=106224388&keywords=data%20scientist&location=Atlanta%2C%20Georgia%2C%20United%20States&start=' + str(i)\n",
    "    print(link)"
   ]
  },
  {
   "cell_type": "code",
   "execution_count": 164,
   "id": "d0dc0914",
   "metadata": {},
   "outputs": [],
   "source": [
    "# create a function to return soup object\n",
    "def get_soup(link): \n",
    "    response = get(link, headers={'user-agent': 'data science project'}) \n",
    "    soup = BeautifulSoup(response.content, 'html.parser') \n",
    "    return soup \n",
    "\n",
    "# create a function that retrieves the role and link and returns a dictionary with these items \n",
    "def parse_listing_info(listing):\n",
    "    role = listing.get_text().strip()\n",
    "    link = listing['href']\n",
    "    return { 'role': role, 'link': link }\n",
    "\n",
    "# create a function to get the first page results and loop through the following pages to gather 250 results \n",
    "def get_job_listings():\n",
    "    link = 'https://www.linkedin.com/jobs/search/?distance=25&geoId=106224388&keywords=data%20scientist&location=Atlanta%2C%20Georgia%2C%20United%20States'\n",
    "    soup = get_soup(link) \n",
    "    listings = soup.find_all('a', class_='base-card__full-link') \n",
    "    listing_info = pd.DataFrame([parse_listing_info(listing) for listing in listings])\n",
    "    \n",
    "    for i in range(25,250,25):\n",
    "        link = link + str(i)\n",
    "        soup = get_soup(link) \n",
    "        listings = soup.find_all('a', class_='base-card__full-link')\n",
    "        listing_info = pd.concat([listing_info, \n",
    "                                 pd.DataFrame([parse_listing_info(listing) for listing in listings])],\n",
    "                                 ignore_index=True)\n",
    "        print('iteration')\n",
    "    return listing_info"
   ]
  },
  {
   "cell_type": "code",
   "execution_count": 165,
   "id": "05e1dc62",
   "metadata": {},
   "outputs": [
    {
     "name": "stdout",
     "output_type": "stream",
     "text": [
      "iteration\n",
      "iteration\n",
      "iteration\n",
      "iteration\n",
      "iteration\n",
      "iteration\n",
      "iteration\n",
      "iteration\n",
      "iteration\n"
     ]
    },
    {
     "data": {
      "text/html": [
       "<div>\n",
       "<style scoped>\n",
       "    .dataframe tbody tr th:only-of-type {\n",
       "        vertical-align: middle;\n",
       "    }\n",
       "\n",
       "    .dataframe tbody tr th {\n",
       "        vertical-align: top;\n",
       "    }\n",
       "\n",
       "    .dataframe thead th {\n",
       "        text-align: right;\n",
       "    }\n",
       "</style>\n",
       "<table border=\"1\" class=\"dataframe\">\n",
       "  <thead>\n",
       "    <tr style=\"text-align: right;\">\n",
       "      <th></th>\n",
       "      <th>role</th>\n",
       "      <th>link</th>\n",
       "    </tr>\n",
       "  </thead>\n",
       "  <tbody>\n",
       "    <tr>\n",
       "      <th>0</th>\n",
       "      <td>Data Scientist, Decision Analytics</td>\n",
       "      <td>https://www.linkedin.com/jobs/view/data-scient...</td>\n",
       "    </tr>\n",
       "    <tr>\n",
       "      <th>1</th>\n",
       "      <td>Junior Data Scientist</td>\n",
       "      <td>https://www.linkedin.com/jobs/view/junior-data...</td>\n",
       "    </tr>\n",
       "    <tr>\n",
       "      <th>2</th>\n",
       "      <td>Data Scientist</td>\n",
       "      <td>https://www.linkedin.com/jobs/view/data-scient...</td>\n",
       "    </tr>\n",
       "    <tr>\n",
       "      <th>3</th>\n",
       "      <td>Data Scientist</td>\n",
       "      <td>https://www.linkedin.com/jobs/view/data-scient...</td>\n",
       "    </tr>\n",
       "    <tr>\n",
       "      <th>4</th>\n",
       "      <td>Data Scientist</td>\n",
       "      <td>https://www.linkedin.com/jobs/view/data-scient...</td>\n",
       "    </tr>\n",
       "    <tr>\n",
       "      <th>...</th>\n",
       "      <td>...</td>\n",
       "      <td>...</td>\n",
       "    </tr>\n",
       "    <tr>\n",
       "      <th>245</th>\n",
       "      <td>Data Scientist</td>\n",
       "      <td>https://www.linkedin.com/jobs/view/data-scient...</td>\n",
       "    </tr>\n",
       "    <tr>\n",
       "      <th>246</th>\n",
       "      <td>Sr Data Scientist, Content Science</td>\n",
       "      <td>https://www.linkedin.com/jobs/view/sr-data-sci...</td>\n",
       "    </tr>\n",
       "    <tr>\n",
       "      <th>247</th>\n",
       "      <td>Data Scientist, Revenue Acceleration, Google C...</td>\n",
       "      <td>https://www.linkedin.com/jobs/view/data-scient...</td>\n",
       "    </tr>\n",
       "    <tr>\n",
       "      <th>248</th>\n",
       "      <td>Data Scientist - 100% Virtual</td>\n",
       "      <td>https://www.linkedin.com/jobs/view/data-scient...</td>\n",
       "    </tr>\n",
       "    <tr>\n",
       "      <th>249</th>\n",
       "      <td>Data Scientist</td>\n",
       "      <td>https://www.linkedin.com/jobs/view/data-scient...</td>\n",
       "    </tr>\n",
       "  </tbody>\n",
       "</table>\n",
       "<p>250 rows × 2 columns</p>\n",
       "</div>"
      ],
      "text/plain": [
       "                                                  role  \\\n",
       "0                   Data Scientist, Decision Analytics   \n",
       "1                                Junior Data Scientist   \n",
       "2                                       Data Scientist   \n",
       "3                                       Data Scientist   \n",
       "4                                       Data Scientist   \n",
       "..                                                 ...   \n",
       "245                                     Data Scientist   \n",
       "246                 Sr Data Scientist, Content Science   \n",
       "247  Data Scientist, Revenue Acceleration, Google C...   \n",
       "248                      Data Scientist - 100% Virtual   \n",
       "249                                     Data Scientist   \n",
       "\n",
       "                                                  link  \n",
       "0    https://www.linkedin.com/jobs/view/data-scient...  \n",
       "1    https://www.linkedin.com/jobs/view/junior-data...  \n",
       "2    https://www.linkedin.com/jobs/view/data-scient...  \n",
       "3    https://www.linkedin.com/jobs/view/data-scient...  \n",
       "4    https://www.linkedin.com/jobs/view/data-scient...  \n",
       "..                                                 ...  \n",
       "245  https://www.linkedin.com/jobs/view/data-scient...  \n",
       "246  https://www.linkedin.com/jobs/view/sr-data-sci...  \n",
       "247  https://www.linkedin.com/jobs/view/data-scient...  \n",
       "248  https://www.linkedin.com/jobs/view/data-scient...  \n",
       "249  https://www.linkedin.com/jobs/view/data-scient...  \n",
       "\n",
       "[250 rows x 2 columns]"
      ]
     },
     "execution_count": 165,
     "metadata": {},
     "output_type": "execute_result"
    }
   ],
   "source": [
    "# call function\n",
    "datascience_jobs = get_job_listings()\n",
    "datascience_jobs"
   ]
  },
  {
   "cell_type": "code",
   "execution_count": null,
   "id": "5e6130d2",
   "metadata": {},
   "outputs": [],
   "source": []
  }
 ],
 "metadata": {
  "kernelspec": {
   "display_name": "Python 3",
   "language": "python",
   "name": "python3"
  },
  "language_info": {
   "codemirror_mode": {
    "name": "ipython",
    "version": 3
   },
   "file_extension": ".py",
   "mimetype": "text/x-python",
   "name": "python",
   "nbconvert_exporter": "python",
   "pygments_lexer": "ipython3",
   "version": "3.8.8"
  }
 },
 "nbformat": 4,
 "nbformat_minor": 5
}
